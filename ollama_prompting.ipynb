{
 "cells": [
  {
   "cell_type": "code",
   "execution_count": 1,
   "id": "ba9e806f",
   "metadata": {},
   "outputs": [
    {
     "name": "stderr",
     "output_type": "stream",
     "text": [
      "ERROR: pip's dependency resolver does not currently take into account all the packages that are installed. This behaviour is the source of the following dependency conflicts.\n",
      "tensorflow 2.19.0 requires keras>=3.5.0, but you have keras 2.11.0 which is incompatible.\n"
     ]
    }
   ],
   "source": [
    "!pip install datasets evaluate rouge_score ollama --quiet"
   ]
  },
  {
   "cell_type": "code",
   "execution_count": 1,
   "id": "1f72d287",
   "metadata": {},
   "outputs": [],
   "source": [
    "from datasets import load_dataset\n",
    "\n",
    "# Load 100 samples from XSum test set\n",
    "dataset = load_dataset(\"xsum\", trust_remote_code=True)\n",
    "subset = dataset[\"test\"].select(range(100))\n",
    "\n",
    "# Extract documents and reference summaries\n",
    "documents = [ex[\"document\"] for ex in subset]\n",
    "references = [ex[\"summary\"] for ex in subset]"
   ]
  },
  {
   "cell_type": "code",
   "execution_count": null,
   "id": "6b938ead",
   "metadata": {},
   "outputs": [],
   "source": [
    "from ollama import Client\n",
    "\n",
    "client = Client(host=\"http://localhost:11434\")\n",
    "\n",
    "def generate_summary_ollama(doc, model=\"llama3.2:1b\"):\n",
    "    prompt = f\"Summarize the following news article in one sentence:\\n\\n{doc}\"\n",
    "    response = client.chat(model=model, messages=[{\"role\": \"user\", \"content\": prompt}])\n",
    "    return response['message']['content'].strip()"
   ]
  },
  {
   "cell_type": "code",
   "execution_count": 3,
   "id": "9c5005ac",
   "metadata": {},
   "outputs": [
    {
     "name": "stdout",
     "output_type": "stream",
     "text": [
      "⏳ Prompting 1/100...\n",
      "⏳ Prompting 2/100...\n",
      "⏳ Prompting 3/100...\n",
      "⏳ Prompting 4/100...\n",
      "⏳ Prompting 5/100...\n",
      "⏳ Prompting 6/100...\n",
      "⏳ Prompting 7/100...\n",
      "⏳ Prompting 8/100...\n",
      "⏳ Prompting 9/100...\n",
      "⏳ Prompting 10/100...\n",
      "⏳ Prompting 11/100...\n",
      "⏳ Prompting 12/100...\n",
      "⏳ Prompting 13/100...\n",
      "⏳ Prompting 14/100...\n",
      "⏳ Prompting 15/100...\n",
      "⏳ Prompting 16/100...\n",
      "⏳ Prompting 17/100...\n",
      "⏳ Prompting 18/100...\n",
      "⏳ Prompting 19/100...\n",
      "⏳ Prompting 20/100...\n",
      "⏳ Prompting 21/100...\n",
      "⏳ Prompting 22/100...\n",
      "⏳ Prompting 23/100...\n",
      "⏳ Prompting 24/100...\n",
      "⏳ Prompting 25/100...\n",
      "⏳ Prompting 26/100...\n",
      "⏳ Prompting 27/100...\n",
      "⏳ Prompting 28/100...\n",
      "⏳ Prompting 29/100...\n",
      "⏳ Prompting 30/100...\n",
      "⏳ Prompting 31/100...\n",
      "⏳ Prompting 32/100...\n",
      "⏳ Prompting 33/100...\n",
      "⏳ Prompting 34/100...\n",
      "⏳ Prompting 35/100...\n",
      "⏳ Prompting 36/100...\n",
      "⏳ Prompting 37/100...\n",
      "⏳ Prompting 38/100...\n",
      "⏳ Prompting 39/100...\n",
      "⏳ Prompting 40/100...\n",
      "⏳ Prompting 41/100...\n",
      "⏳ Prompting 42/100...\n",
      "⏳ Prompting 43/100...\n",
      "⏳ Prompting 44/100...\n",
      "⏳ Prompting 45/100...\n",
      "⏳ Prompting 46/100...\n",
      "⏳ Prompting 47/100...\n",
      "⏳ Prompting 48/100...\n",
      "⏳ Prompting 49/100...\n",
      "⏳ Prompting 50/100...\n",
      "⏳ Prompting 51/100...\n",
      "⏳ Prompting 52/100...\n",
      "⏳ Prompting 53/100...\n",
      "⏳ Prompting 54/100...\n",
      "⏳ Prompting 55/100...\n",
      "⏳ Prompting 56/100...\n",
      "⏳ Prompting 57/100...\n",
      "⏳ Prompting 58/100...\n",
      "⏳ Prompting 59/100...\n",
      "⏳ Prompting 60/100...\n",
      "⏳ Prompting 61/100...\n",
      "⏳ Prompting 62/100...\n",
      "⏳ Prompting 63/100...\n",
      "⏳ Prompting 64/100...\n",
      "⏳ Prompting 65/100...\n",
      "⏳ Prompting 66/100...\n",
      "⏳ Prompting 67/100...\n",
      "⏳ Prompting 68/100...\n",
      "⏳ Prompting 69/100...\n",
      "⏳ Prompting 70/100...\n",
      "⏳ Prompting 71/100...\n",
      "⏳ Prompting 72/100...\n",
      "⏳ Prompting 73/100...\n",
      "⏳ Prompting 74/100...\n",
      "⏳ Prompting 75/100...\n",
      "⏳ Prompting 76/100...\n",
      "⏳ Prompting 77/100...\n",
      "⏳ Prompting 78/100...\n",
      "⏳ Prompting 79/100...\n",
      "⏳ Prompting 80/100...\n",
      "⏳ Prompting 81/100...\n",
      "⏳ Prompting 82/100...\n",
      "⏳ Prompting 83/100...\n",
      "⏳ Prompting 84/100...\n",
      "⏳ Prompting 85/100...\n",
      "⏳ Prompting 86/100...\n",
      "⏳ Prompting 87/100...\n",
      "⏳ Prompting 88/100...\n",
      "⏳ Prompting 89/100...\n",
      "⏳ Prompting 90/100...\n",
      "⏳ Prompting 91/100...\n",
      "⏳ Prompting 92/100...\n",
      "⏳ Prompting 93/100...\n",
      "⏳ Prompting 94/100...\n",
      "⏳ Prompting 95/100...\n",
      "⏳ Prompting 96/100...\n",
      "⏳ Prompting 97/100...\n",
      "⏳ Prompting 98/100...\n",
      "⏳ Prompting 99/100...\n",
      "⏳ Prompting 100/100...\n"
     ]
    }
   ],
   "source": [
    "predictions = []\n",
    "for i, doc in enumerate(documents):\n",
    "    print(f\"⏳ Prompting {i+1}/100...\")\n",
    "    try:\n",
    "        summary = generate_summary_ollama(doc)\n",
    "    except Exception as e:\n",
    "        print(f\"⚠️ Error: {e}\")\n",
    "        summary = \"\"\n",
    "    predictions.append(summary)\n"
   ]
  },
  {
   "cell_type": "code",
   "execution_count": 4,
   "id": "3d9cfa14",
   "metadata": {},
   "outputs": [
    {
     "name": "stdout",
     "output_type": "stream",
     "text": [
      "📊 ROUGE Scores (Ollama llama3):\n",
      "rouge1: 0.2329\n",
      "rouge2: 0.0475\n",
      "rougeL: 0.1618\n",
      "rougeLsum: 0.1622\n"
     ]
    }
   ],
   "source": [
    "import evaluate\n",
    "\n",
    "rouge = evaluate.load(\"rouge\")\n",
    "scores = rouge.compute(predictions=predictions, references=references)\n",
    "\n",
    "print(\"📊 ROUGE Scores (Ollama llama3):\")\n",
    "for k, v in scores.items():\n",
    "    print(f\"{k}: {v:.4f}\")"
   ]
  },
  {
   "cell_type": "code",
   "execution_count": 5,
   "id": "1373e784",
   "metadata": {},
   "outputs": [
    {
     "name": "stdout",
     "output_type": "stream",
     "text": [
      "\n",
      "🔹 Example 1\n",
      "================================================================================\n",
      "📄 Document:\n",
      " Prison Link Cymru had 1,099 referrals in 2015-16 and said some ex-offenders were living rough for up to a year before finding suitable accommodation.\n",
      "Workers at the charity claim investment in housing would be cheaper than jailing homeless repeat offenders.\n",
      "The Welsh Government said more people than ever were getting help to address housing problems.\n",
      "Changes to the Housing Act in Wales, introduced in 2015, removed the right for prison leavers to be given priority for accommodation.\n",
      "Prison Link C ...\n",
      "\n",
      "✅ Reference Summary:\n",
      " There is a \"chronic\" need for more housing for prison leavers in Wales, according to a charity.\n",
      "🤖 LLaMA3.2:1b Summary:\n",
      " Here is a summary of the article in one sentence:\n",
      "\n",
      "A Welsh charity, Prison Link Cymru, reports that despite an increase in funding for homeless services after changes to the Housing Act in 2015, many ex-offenders continue to struggle to find stable accommodation due to issues such as post-traumatic stress disorder and drug dependency, which are often viewed as less of a priority.\n",
      "================================================================================\n",
      "\n",
      "🔹 Example 2\n",
      "================================================================================\n",
      "📄 Document:\n",
      " Officers searched properties in the Waterfront Park and Colonsay View areas of the city on Wednesday.\n",
      "Detectives said three firearms, ammunition and a five-figure sum of money were recovered.\n",
      "A 26-year-old man who was arrested and charged appeared at Edinburgh Sheriff Court on Thursday. \n",
      "\n",
      "✅ Reference Summary:\n",
      " A man has appeared in court after firearms, ammunition and cash were seized by police in Edinburgh.\n",
      "🤖 LLaMA3.2:1b Summary:\n",
      " Police executed searches at several properties in Edinburgh's Waterfront Park and Colonsay View areas on Wednesday, resulting in the recovery of firearms, ammunition, and significant amounts of cash.\n",
      "================================================================================\n",
      "\n",
      "🔹 Example 3\n",
      "================================================================================\n",
      "📄 Document:\n",
      " Jordan Hill, Brittany Covington and Tesfaye Cooper, all 18, and Tanishia Covington, 24, appeared in a Chicago court on Friday.\n",
      "The four have been charged with hate crimes and aggravated kidnapping and battery, among other things.\n",
      "An online fundraiser for their victim has collected $51,000 (Â£42,500) so far.\n",
      "Denying the four suspects bail, Judge Maria Kuriakos Ciesil asked: \"Where was your sense of decency?\"\n",
      "Prosecutors told the court the beating started in a van and continued at a house, where t ...\n",
      "\n",
      "✅ Reference Summary:\n",
      " Four people accused of kidnapping and torturing a mentally disabled man in a \"racially motivated\" attack streamed on Facebook have been denied bail.\n",
      "🤖 LLaMA3.2:1b Summary:\n",
      " Four individuals, including an 18-year-old white man, an 18-year-old woman with schizophrenia, and a 24-year-old man with attention deficit disorder, have been charged with multiple felony offenses in connection with a brutal attack on a teenager who was dropped off to meet them at a McDonald's on Christmas Day.\n",
      "================================================================================\n"
     ]
    }
   ],
   "source": [
    "for i in range(3):\n",
    "    print(f\"\\n🔹 Example {i+1}\")\n",
    "    print(\"=\"*80)\n",
    "    print(\"📄 Document:\\n\", documents[i][:500], \"...\" if len(documents[i]) > 500 else \"\")\n",
    "    print(\"\\n✅ Reference Summary:\\n\", references[i])\n",
    "    print(\"🤖 LLaMA3.2:1b Summary:\\n\", predictions[i])\n",
    "    print(\"=\"*80)\n"
   ]
  }
 ],
 "metadata": {
  "kernelspec": {
   "display_name": "base",
   "language": "python",
   "name": "python3"
  },
  "language_info": {
   "codemirror_mode": {
    "name": "ipython",
    "version": 3
   },
   "file_extension": ".py",
   "mimetype": "text/x-python",
   "name": "python",
   "nbconvert_exporter": "python",
   "pygments_lexer": "ipython3",
   "version": "3.12.7"
  }
 },
 "nbformat": 4,
 "nbformat_minor": 5
}
